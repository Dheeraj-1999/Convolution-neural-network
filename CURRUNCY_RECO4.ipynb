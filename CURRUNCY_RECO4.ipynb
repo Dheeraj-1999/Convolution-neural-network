{
  "nbformat": 4,
  "nbformat_minor": 0,
  "metadata": {
    "colab": {
      "name": "CURRUNCY RECO3.ipynb",
      "provenance": [],
      "collapsed_sections": [],
      "toc_visible": true
    },
    "kernelspec": {
      "name": "python3",
      "display_name": "Python 3"
    },
    "accelerator": "TPU"
  },
  "cells": [
    {
      "cell_type": "code",
      "metadata": {
        "id": "X6R3H6_dFbSk",
        "colab_type": "code",
        "colab": {}
      },
      "source": [
        "import os\n",
        "import zipfile\n",
        "import random\n",
        "%tensorflow_version 1.x\n",
        "import tensorflow as tf\n",
        "from tensorflow.keras.optimizers import RMSprop\n",
        "from tensorflow.keras.preprocessing.image import ImageDataGenerator\n",
        "from shutil import copyfile"
      ],
      "execution_count": 0,
      "outputs": []
    },
    {
      "cell_type": "code",
      "metadata": {
        "id": "ImHiJqurFbpD",
        "colab_type": "code",
        "outputId": "a1cae89c-fb66-46cd-a3d6-5979b3e30360",
        "colab": {
          "base_uri": "https://localhost:8080/",
          "height": 210
        }
      },
      "source": [
        "!wget --no-check-certificate \\\n",
        "    \"https://storage.googleapis.com/datsets/currency_dataset.zip\"\\\n",
        "    -O \"/tmp/currency_dataset.zip\"\n",
        "\n",
        "local_zip = '/tmp/currency_dataset.zip'\n",
        "zip_ref   = zipfile.ZipFile(local_zip, 'r')\n",
        "zip_ref.extractall('/tmp')\n",
        "zip_ref.close()\n"
      ],
      "execution_count": 0,
      "outputs": [
        {
          "output_type": "stream",
          "text": [
            "--2019-11-10 19:05:17--  https://storage.googleapis.com/datsets/currency_dataset.zip\n",
            "Resolving storage.googleapis.com (storage.googleapis.com)... 209.85.145.128, 2607:f8b0:4001:c05::80\n",
            "Connecting to storage.googleapis.com (storage.googleapis.com)|209.85.145.128|:443... connected.\n",
            "HTTP request sent, awaiting response... 200 OK\n",
            "Length: 1216882211 (1.1G) [application/x-zip-compressed]\n",
            "Saving to: ‘/tmp/currency_dataset.zip’\n",
            "\n",
            "/tmp/currency_datas 100%[===================>]   1.13G  27.4MB/s    in 36s     \n",
            "\n",
            "2019-11-10 19:05:58 (32.2 MB/s) - ‘/tmp/currency_dataset.zip’ saved [1216882211/1216882211]\n",
            "\n"
          ],
          "name": "stdout"
        }
      ]
    },
    {
      "cell_type": "code",
      "metadata": {
        "id": "6MdBn5riFtL7",
        "colab_type": "code",
        "outputId": "bb3768b8-d16c-482a-a639-6de07ffa2920",
        "colab": {
          "base_uri": "https://localhost:8080/",
          "height": 122
        }
      },
      "source": [
        "print(len(os.listdir('/tmp/dataset/ten/')))\n",
        "print(len(os.listdir('/tmp/dataset/twenty/')))\n",
        "print(len(os.listdir('/tmp/dataset/fifty/')))\n",
        "print(len(os.listdir('/tmp/dataset/hundred/')))\n",
        "print(len(os.listdir('/tmp/dataset/fivehundred/')))\n",
        "print(len(os.listdir('/tmp/dataset/thousand/')))"
      ],
      "execution_count": 0,
      "outputs": [
        {
          "output_type": "stream",
          "text": [
            "435\n",
            "437\n",
            "447\n",
            "413\n",
            "402\n",
            "437\n"
          ],
          "name": "stdout"
        }
      ]
    },
    {
      "cell_type": "code",
      "metadata": {
        "id": "mrem_vSaGNf_",
        "colab_type": "code",
        "colab": {}
      },
      "source": [
        "try:\n",
        "    os.mkdir('/tmp/currencydataset/')\n",
        "    os.mkdir('/tmp/currencydataset/training/')\n",
        "    os.mkdir('/tmp/currencydataset/testing/')\n",
        "    os.mkdir('/tmp/currencydataset/training/ten/')\n",
        "    os.mkdir('/tmp/currencydataset/testing/ten/')\n",
        "    os.mkdir('/tmp/currencydataset/training/twenty/')\n",
        "    os.mkdir('/tmp/currencydataset/testing/twenty/')\n",
        "    os.mkdir('/tmp/currencydataset/training/fifty/')\n",
        "    os.mkdir('/tmp/currencydataset/testing/fifty/')\n",
        "    os.mkdir('/tmp/currencydataset/training/hundred/')\n",
        "    os.mkdir('/tmp/currencydataset/testing/hundred/')\n",
        "    os.mkdir('/tmp/currencydataset/training/fivehundred/')\n",
        "    os.mkdir('/tmp/currencydataset/testing/fivehundred/')\n",
        "    os.mkdir('/tmp/currencydataset/training/thousand/')\n",
        "    os.mkdir('/tmp/currencydataset/testing/thousand/')\n",
        "except OSError:\n",
        "    pass"
      ],
      "execution_count": 0,
      "outputs": []
    },
    {
      "cell_type": "code",
      "metadata": {
        "id": "S-jSDS5IG2ha",
        "colab_type": "code",
        "colab": {}
      },
      "source": [
        "def split_data(SOURCE, TRAINING, TESTING, SPLIT_SIZE):\n",
        "    files = []\n",
        "    for filename in os.listdir(SOURCE):\n",
        "        file = SOURCE +\"/\"+ filename\n",
        "        if os.path.getsize(file) > 0:\n",
        "            files.append(filename)\n",
        "        else:\n",
        "            print(filename + \" is zero length, so ignoring.\")\n",
        "\n",
        "    training_length = int(len(files) * SPLIT_SIZE)\n",
        "    testing_length = int(len(files) - training_length)\n",
        "    shuffled_set = random.sample(files, len(files))\n",
        "    training_set = shuffled_set[0:training_length]\n",
        "    testing_set = shuffled_set[:testing_length]\n",
        "\n",
        "    for filename in training_set:\n",
        "        this_file = SOURCE +\"/\"+ filename\n",
        "        destination = TRAINING + filename\n",
        "        copyfile(this_file, destination)\n",
        "\n",
        "    for filename in testing_set:\n",
        "        this_file = SOURCE +\"/\"+ filename\n",
        "        destination = TESTING + filename\n",
        "        copyfile(this_file, destination)\n",
        "\n",
        "\n",
        "TEN_SOURCE_DIR = \"/tmp/dataset/ten/\"\n",
        "TRAINING_TEN_DIR = \"/tmp/currencydataset/training/ten/\"\n",
        "TESTING_TEN_DIR = \"/tmp/currencydataset/testing/ten/\"\n",
        "TWENTY_SOURCE_DIR = \"/tmp/dataset/twenty/\"\n",
        "TRAINING_TWENTY_DIR = \"/tmp/currencydataset/training/twenty/\"\n",
        "TESTING_TWENTY_DIR = \"/tmp/currencydataset/testing/twenty/\"\n",
        "FIFTY_SOURCE_DIR = \"/tmp/dataset/fifty/\"\n",
        "TRAINING_FIFTY_DIR = \"/tmp/currencydataset/training/fifty/\"\n",
        "TESTING_FIFTY_DIR = \"/tmp/currencydataset/testing/fifty/\"\n",
        "HUNDRED_SOURCE_DIR = \"/tmp/dataset/hundred/\"\n",
        "TRAINING_HUNDRED_DIR = \"/tmp/currencydataset/training/hundred/\"\n",
        "TESTING_HUNDRED_DIR = \"/tmp/currencydataset/testing/hundred/\"\n",
        "FIVEHUNDRED_SOURCE_DIR = \"/tmp/dataset/fivehundred/\"\n",
        "TRAINING_FIVEHUNDRED_DIR = \"/tmp/currencydataset/training/fivehundred/\"\n",
        "TESTING_FIVEHUNDRED_DIR = \"/tmp/currencydataset/testing/fivehundred/\"\n",
        "THOUSAND_SOURCE_DIR = \"/tmp/dataset/thousand/\"\n",
        "TRAINING_THOUSAND_DIR = \"/tmp/currencydataset/training/thousand/\"\n",
        "TESTING_THOUSAND_DIR = \"/tmp/currencydataset/testing/thousand/\"\n",
        "\n",
        "split_size = .9\n",
        "split_data(TEN_SOURCE_DIR, TRAINING_TEN_DIR, TESTING_TEN_DIR, split_size)\n",
        "split_data(TWENTY_SOURCE_DIR, TRAINING_TWENTY_DIR, TESTING_TWENTY_DIR, split_size)\n",
        "split_data(FIFTY_SOURCE_DIR, TRAINING_FIFTY_DIR, TESTING_FIFTY_DIR, split_size)\n",
        "split_data(HUNDRED_SOURCE_DIR, TRAINING_HUNDRED_DIR, TESTING_HUNDRED_DIR, split_size)\n",
        "split_data(FIVEHUNDRED_SOURCE_DIR, TRAINING_FIVEHUNDRED_DIR, TESTING_FIVEHUNDRED_DIR, split_size)\n",
        "split_data(THOUSAND_SOURCE_DIR, TRAINING_THOUSAND_DIR, TESTING_THOUSAND_DIR, split_size)\n"
      ],
      "execution_count": 0,
      "outputs": []
    },
    {
      "cell_type": "code",
      "metadata": {
        "id": "tfCf7kdEKYCv",
        "colab_type": "code",
        "outputId": "ecb10ff5-a8fe-4040-eeb8-775452b74f06",
        "colab": {
          "base_uri": "https://localhost:8080/",
          "height": 228
        }
      },
      "source": [
        "print(len(os.listdir(\"/tmp/currencydataset/training/ten/\")))\n",
        "print(len(os.listdir(\"/tmp/currencydataset/testing/ten/\")))\n",
        "print(len(os.listdir(\"/tmp/currencydataset/training/twenty/\")))\n",
        "print(len(os.listdir(\"/tmp/currencydataset/testing/twenty/\")))\n",
        "print(len(os.listdir(\"/tmp/currencydataset/training/fifty/\")))\n",
        "print(len(os.listdir(\"/tmp/currencydataset/testing/fifty/\")))\n",
        "print(len(os.listdir(\"/tmp/currencydataset/training/hundred/\")))\n",
        "print(len(os.listdir(\"/tmp/currencydataset/testing/hundred/\")))\n",
        "print(len(os.listdir(\"/tmp/currencydataset/training/fivehundred/\")))\n",
        "print(len(os.listdir(\"/tmp/currencydataset/testing/fivehundred/\")))\n",
        "print(len(os.listdir(\"/tmp/currencydataset/training/thousand/\")))\n",
        "print(len(os.listdir(\"/tmp/currencydataset/testing/thousand/\")))\n"
      ],
      "execution_count": 0,
      "outputs": [
        {
          "output_type": "stream",
          "text": [
            "391\n",
            "44\n",
            "393\n",
            "44\n",
            "402\n",
            "45\n",
            "371\n",
            "42\n",
            "361\n",
            "41\n",
            "393\n",
            "44\n"
          ],
          "name": "stdout"
        }
      ]
    },
    {
      "cell_type": "code",
      "metadata": {
        "id": "WITv6SQVO8hz",
        "colab_type": "code",
        "outputId": "3ce0367b-0594-47c9-b9cc-080f9866aebc",
        "colab": {
          "base_uri": "https://localhost:8080/",
          "height": 90
        }
      },
      "source": [
        "model = tf.keras.models.Sequential([\n",
        "    tf.keras.layers.Conv2D(16, (3, 3), activation='relu', input_shape=(150, 150, 3)),\n",
        "    tf.keras.layers.MaxPooling2D(2, 2),\n",
        "    tf.keras.layers.Conv2D(32, (3, 3), activation='relu'),\n",
        "    tf.keras.layers.MaxPooling2D(2, 2),\n",
        "    tf.keras.layers.Conv2D(32, (3, 3), activation='relu'),\n",
        "    tf.keras.layers.MaxPooling2D(2, 2),\n",
        "    tf.keras.layers.Flatten(),\n",
        "    tf.keras.layers.Dense(1024, activation='relu'),\n",
        "    tf.keras.layers.Dense(512, activation='relu'),\n",
        "    tf.keras.layers.Dense(128, activation='relu'),\n",
        "    tf.keras.layers.Dense(6, activation='softmax')\n",
        "])\n",
        "\n",
        "model.compile(optimizer='adam', loss='categorical_crossentropy', metrics=['acc'])"
      ],
      "execution_count": 0,
      "outputs": [
        {
          "output_type": "stream",
          "text": [
            "WARNING:tensorflow:From /usr/local/lib/python3.6/dist-packages/tensorflow_core/python/ops/resource_variable_ops.py:1630: calling BaseResourceVariable.__init__ (from tensorflow.python.ops.resource_variable_ops) with constraint is deprecated and will be removed in a future version.\n",
            "Instructions for updating:\n",
            "If using Keras pass *_constraint arguments to layers.\n"
          ],
          "name": "stdout"
        }
      ]
    },
    {
      "cell_type": "code",
      "metadata": {
        "id": "iHQ9ECtPPO2J",
        "colab_type": "code",
        "outputId": "e7ac0186-2a15-4d88-c130-815f102c5212",
        "colab": {
          "base_uri": "https://localhost:8080/",
          "height": 52
        }
      },
      "source": [
        "TRAINING_DIR = \"/tmp/currencydataset/training/\"\n",
        "# Experiment with your own parameters here to really try to drive it to 99.9% accuracy or better\n",
        "train_datagen = ImageDataGenerator(rescale=1./255)\n",
        "train_generator = train_datagen.flow_from_directory(TRAINING_DIR,\n",
        "                                                    batch_size=40,\n",
        "                                                    class_mode='categorical',\n",
        "                                                    target_size=(150, 150))\n",
        "\n",
        "VALIDATION_DIR = \"/tmp/currencydataset/testing/\"\n",
        "# Experiment with your own parameters here to really try to drive it to 99.9% accuracy or better\n",
        "validation_datagen = ImageDataGenerator(rescale=1./255)\n",
        "validation_generator = validation_datagen.flow_from_directory(VALIDATION_DIR,\n",
        "                                                              batch_size=40,\n",
        "                                                              class_mode='categorical',\n",
        "                                                              target_size=(150, 150))"
      ],
      "execution_count": 0,
      "outputs": [
        {
          "output_type": "stream",
          "text": [
            "Found 2311 images belonging to 6 classes.\n",
            "Found 260 images belonging to 6 classes.\n"
          ],
          "name": "stdout"
        }
      ]
    },
    {
      "cell_type": "code",
      "metadata": {
        "id": "2LA6l0MdP754",
        "colab_type": "code",
        "outputId": "2b681e51-6ba1-4659-9b03-a3494da81df1",
        "colab": {
          "base_uri": "https://localhost:8080/",
          "height": 545
        }
      },
      "source": [
        "history = model.fit_generator(train_generator,\n",
        "                              epochs=10,\n",
        "                              verbose=1,\n",
        "                              validation_data=validation_generator)"
      ],
      "execution_count": 0,
      "outputs": [
        {
          "output_type": "stream",
          "text": [
            "Epoch 1/10\n",
            "57/58 [============================>.] - ETA: 2s - loss: 1.7764 - acc: 0.2092Epoch 1/10\n",
            "58/58 [==============================] - 136s 2s/step - loss: 1.7761 - acc: 0.2099 - val_loss: 1.7322 - val_acc: 0.2885\n",
            "Epoch 2/10\n",
            "57/58 [============================>.] - ETA: 1s - loss: 1.5511 - acc: 0.3514Epoch 1/10\n",
            "58/58 [==============================] - 127s 2s/step - loss: 1.5468 - acc: 0.3531 - val_loss: 1.3808 - val_acc: 0.4538\n",
            "Epoch 3/10\n",
            "57/58 [============================>.] - ETA: 1s - loss: 1.1958 - acc: 0.5051Epoch 1/10\n",
            "58/58 [==============================] - 128s 2s/step - loss: 1.1966 - acc: 0.5045 - val_loss: 0.9031 - val_acc: 0.6769\n",
            "Epoch 4/10\n",
            "57/58 [============================>.] - ETA: 1s - loss: 0.9721 - acc: 0.6244Epoch 1/10\n",
            "58/58 [==============================] - 128s 2s/step - loss: 0.9738 - acc: 0.6253 - val_loss: 0.6664 - val_acc: 0.7500\n",
            "Epoch 5/10\n",
            "57/58 [============================>.] - ETA: 1s - loss: 0.6426 - acc: 0.7565Epoch 1/10\n",
            "58/58 [==============================] - 128s 2s/step - loss: 0.6424 - acc: 0.7555 - val_loss: 0.4935 - val_acc: 0.8115\n",
            "Epoch 6/10\n",
            "57/58 [============================>.] - ETA: 1s - loss: 0.4150 - acc: 0.8547Epoch 1/10\n",
            "58/58 [==============================] - 128s 2s/step - loss: 0.4136 - acc: 0.8555 - val_loss: 0.2835 - val_acc: 0.9115\n",
            "Epoch 7/10\n",
            "57/58 [============================>.] - ETA: 1s - loss: 0.2479 - acc: 0.9155Epoch 1/10\n",
            "58/58 [==============================] - 128s 2s/step - loss: 0.2465 - acc: 0.9165 - val_loss: 0.0999 - val_acc: 0.9731\n",
            "Epoch 8/10\n",
            "57/58 [============================>.] - ETA: 1s - loss: 0.1564 - acc: 0.9472Epoch 1/10\n",
            "58/58 [==============================] - 127s 2s/step - loss: 0.1648 - acc: 0.9472 - val_loss: 0.0865 - val_acc: 0.9692\n",
            "Epoch 9/10\n",
            "57/58 [============================>.] - ETA: 1s - loss: 0.1156 - acc: 0.9665Epoch 1/10\n",
            "58/58 [==============================] - 128s 2s/step - loss: 0.1141 - acc: 0.9671 - val_loss: 0.0603 - val_acc: 0.9808\n",
            "Epoch 10/10\n",
            "57/58 [============================>.] - ETA: 1s - loss: 0.1097 - acc: 0.9643Epoch 1/10\n",
            "58/58 [==============================] - 128s 2s/step - loss: 0.1126 - acc: 0.9632 - val_loss: 0.0318 - val_acc: 0.9885\n"
          ],
          "name": "stdout"
        }
      ]
    },
    {
      "cell_type": "markdown",
      "metadata": {
        "id": "EmAZOhsdZV5X",
        "colab_type": "text"
      },
      "source": [
        "Epoch 1/10\n",
        "57/58 [============================>.] - ETA: 2s - loss: 1.6815 - acc: 0.2809Epoch 1/10\n",
        "\n",
        "58/58 [==============================] - 132s 2s/step - loss: 1.6765 - acc: 0.2847 - val_loss: 1.5284 - val_acc: 0.3731\n",
        "\n",
        "Epoch 2/10\n",
        "57/58 [============================>.] - ETA: 1s - loss: 1.3506 - acc: 0.4522Epoch 1/10\n",
        "\n",
        "58/58 [==============================] - 125s 2s/step - loss: 1.3487 - acc: 0.4539 - val_loss: 1.0903 - val_acc: 0.5654\n",
        "\n",
        "Epoch 3/10\n",
        "57/58 [============================>.] - ETA: 1s - loss: 1.0483 - acc: 0.5949Epoch 1/10\n",
        "\n",
        "58/58 [==============================] - 123s 2s/step - loss: 1.0476 - acc: 0.5958 - val_loss: 0.8745 - val_acc: 0.6538\n",
        "\n",
        "Epoch 4/10\n",
        "57/58 [============================>.] - ETA: 1s - loss: 0.8353 - acc: 0.6865Epoch 1/10\n",
        "\n",
        "58/58 [==============================] - 124s 2s/step - loss: 0.8336 - acc: 0.6876 - val_loss: 0.6505 - val_acc: 0.7731\n",
        "Epoch 5/10\n",
        "57/58 [============================>.] - ETA: 1s - loss: 0.5799 - acc: 0.7970Epoch 1/10\n",
        "58/58 [==============================] - 124s 2s/step - loss: 0.5807 - acc: 0.7958 - val_loss: 0.4841 - val_acc: 0.8385\n",
        "\n",
        "Epoch 6/10\n",
        "57/58 [============================>.] - ETA: 1s - loss: 0.3763 - acc: 0.8648Epoch 1/10\n",
        "\n",
        "58/58 [==============================] - 124s 2s/step - loss: 0.3759 - acc: 0.8650 - val_loss: 0.2524 - val_acc: 0.9231\n",
        "\n",
        "Epoch 7/10\n",
        "57/58 [============================>.] - ETA: 1s - loss: 0.2433 - acc: 0.9221Epoch 1/10\n",
        "\n",
        "58/58 [==============================] - 124s 2s/step - loss: 0.2420 - acc: 0.9225 - val_loss: 0.1825 - val_acc: 0.9538\n",
        "\n",
        "Epoch 8/10\n",
        "57/58 [============================>.] - ETA: 1s - loss: 0.2144 - acc: 0.9265Epoch 1/10\n",
        "\n",
        "58/58 [==============================] - 124s 2s/step - loss: 0.2128 - acc: 0.9269 - val_loss: 0.1206 - val_acc: 0.9692\n",
        "\n",
        "Epoch 9/10\n",
        "57/58 [============================>.] - ETA: 1s - loss: 0.0968 - acc: 0.9749Epoch 1/10\n",
        "\n",
        "58/58 [==============================] - 124s 2s/step - loss: 0.0965 - acc: 0.9749 - val_loss: 0.0502 - val_acc: 0.9962\n",
        "\n",
        "Epoch 10/10\n",
        "57/58 [============================>.] - ETA: 1s - loss: 0.0515 - acc: 0.9877Epoch 1/10\n",
        "\n",
        "58/58 [==============================] - 125s 2s/step - loss: 0.0516 - acc: 0.9879 - val_loss: 0.0606 - val_acc: 0.9923"
      ]
    },
    {
      "cell_type": "code",
      "metadata": {
        "id": "HvO9QJzxQMEp",
        "colab_type": "code",
        "outputId": "cfb2f439-d105-46aa-94d2-0e9bdc9b2ece",
        "colab": {
          "base_uri": "https://localhost:8080/",
          "height": 564
        }
      },
      "source": [
        "%matplotlib inline\n",
        "\n",
        "import matplotlib.image  as mpimg\n",
        "import matplotlib.pyplot as plt\n",
        "\n",
        "#-----------------------------------------------------------\n",
        "# Retrieve a list of list results on training and test data\n",
        "# sets for each training epoch\n",
        "#-----------------------------------------------------------\n",
        "acc=history.history['acc']\n",
        "val_acc=history.history['val_acc']\n",
        "loss=history.history['loss']\n",
        "val_loss=history.history['val_loss']\n",
        "\n",
        "epochs=range(len(acc)) # Get number of epochs\n",
        "\n",
        "#------------------------------------------------\n",
        "# Plot training and validation accuracy per epoch\n",
        "#------------------------------------------------\n",
        "plt.plot(epochs, acc, 'r', \"Training Accuracy\")\n",
        "plt.plot(epochs, val_acc, 'b', \"Validation Accuracy\")\n",
        "plt.title('Training and validation accuracy')\n",
        "plt.figure()\n",
        "\n",
        "#------------------------------------------------\n",
        "# Plot training and validation loss per epoch\n",
        "#------------------------------------------------\n",
        "plt.plot(epochs, loss, 'r', \"Training Loss\")\n",
        "plt.plot(epochs, val_loss, 'b', \"Validation Loss\")\n",
        "plt.figure()\n",
        "\n",
        "\n",
        "# Desired output. Charts with training and validation metrics. No crash :)"
      ],
      "execution_count": 0,
      "outputs": [
        {
          "output_type": "execute_result",
          "data": {
            "text/plain": [
              "<Figure size 432x288 with 0 Axes>"
            ]
          },
          "metadata": {
            "tags": []
          },
          "execution_count": 10
        },
        {
          "output_type": "display_data",
          "data": {
            "image/png": "[encoded data removed]",
            "text/plain": [
              "<Figure size 432x288 with 1 Axes>"
            ]
          },
          "metadata": {
            "tags": []
          }
        },
        {
          "output_type": "display_data",
          "data": {
            "image/png": "[encoded data removed]",
            "text/plain": [
              "<Figure size 432x288 with 1 Axes>"
            ]
          },
          "metadata": {
            "tags": []
          }
        },
        {
          "output_type": "display_data",
          "data": {
            "text/plain": [
              "<Figure size 432x288 with 0 Axes>"
            ]
          },
          "metadata": {
            "tags": []
          }
        }
      ]
    },
    {
      "cell_type": "code",
      "metadata": {
        "id": "8syUt-oKRRp8",
        "colab_type": "code",
        "colab": {}
      },
      "source": [
        "model.save('curruncyrecognition2.h5')"
      ],
      "execution_count": 0,
      "outputs": []
    },
    {
      "cell_type": "code",
      "metadata": {
        "id": "n2hG82B1Q6ji",
        "colab_type": "code",
        "outputId": "de369408-a52a-49bf-8da8-3147c1ec5d87",
        "colab": {
          "base_uri": "https://localhost:8080/",
          "height": 545
        }
      },
      "source": [
        "model.summary()"
      ],
      "execution_count": 0,
      "outputs": [
        {
          "output_type": "stream",
          "text": [
            "Model: \"sequential\"\n",
            "_________________________________________________________________\n",
            "Layer (type)                 Output Shape              Param #   \n",
            "=================================================================\n",
            "conv2d (Conv2D)              (None, 148, 148, 16)      448       \n",
            "_________________________________________________________________\n",
            "max_pooling2d (MaxPooling2D) (None, 74, 74, 16)        0         \n",
            "_________________________________________________________________\n",
            "conv2d_1 (Conv2D)            (None, 72, 72, 32)        4640      \n",
            "_________________________________________________________________\n",
            "max_pooling2d_1 (MaxPooling2 (None, 36, 36, 32)        0         \n",
            "_________________________________________________________________\n",
            "conv2d_2 (Conv2D)            (None, 34, 34, 32)        9248      \n",
            "_________________________________________________________________\n",
            "max_pooling2d_2 (MaxPooling2 (None, 17, 17, 32)        0         \n",
            "_________________________________________________________________\n",
            "flatten (Flatten)            (None, 9248)              0         \n",
            "_________________________________________________________________\n",
            "dense (Dense)                (None, 1024)              9470976   \n",
            "_________________________________________________________________\n",
            "dense_1 (Dense)              (None, 512)               524800    \n",
            "_________________________________________________________________\n",
            "dense_2 (Dense)              (None, 128)               65664     \n",
            "_________________________________________________________________\n",
            "dense_3 (Dense)              (None, 6)                 774       \n",
            "=================================================================\n",
            "Total params: 10,076,550\n",
            "Trainable params: 10,076,550\n",
            "Non-trainable params: 0\n",
            "_________________________________________________________________\n"
          ],
          "name": "stdout"
        }
      ]
    },
    {
      "cell_type": "markdown",
      "metadata": {
        "id": "ZqP5wS6HaFCn",
        "colab_type": "text"
      },
      "source": [
        "---\n",
        "Model: \"sequential_1\"\n",
        "_________________________________________________________________\n",
        "Layer (type)                 Output Shape              Param \n",
        "   \n",
        "=================================================================\n",
        "\n",
        "conv2d_3 (Conv2D)            (None, 148, 148, 16)      448       \n",
        "_______________________________________________________________\n",
        "\n",
        "\n",
        " max_pooling2d_3 (MaxPooling2 (None, 74, 74, 16)        0         \n",
        "_________________________________________________________________\n",
        "conv2d_4 (Conv2D)            (None, 72, 72, 32)        4640      \n",
        "_________________________________________________________________\n",
        "max_pooling2d_4 (MaxPooling2 (None, 36, 36, 32)        0         \n",
        "_________________________________________________________________\n",
        "conv2d_5 (Conv2D)            (None, 34, 34, 64)        18496     \n",
        "_________________________________________________________________\n",
        "max_pooling2d_5 (MaxPooling2 (None, 17, 17, 64)        0         \n",
        "_________________________________________________________________\n",
        "flatten_1 (Flatten)          (None, 18496)             0         \n",
        "_________________________________________________________________\n",
        "dense_2 (Dense)              (None, 512)               9470464   \n",
        "_________________________________________________________________\n",
        "dense_3 (Dense)              (None, 6)                 3078     \n",
        "=================================================================\n",
        "Total params: 9,497,126\n",
        "Trainable params: 9,497,126\n",
        "Non-trainable params: 0\n",
        "---\n",
        "\n",
        "\n"
      ]
    },
    {
      "cell_type": "code",
      "metadata": {
        "id": "vu8l_SLLYM5K",
        "colab_type": "code",
        "outputId": "3b0f783e-65f7-4765-cc02-1f3fcff17d87",
        "colab": {
          "resources": {
            "http://localhost:8080/nbextensions/google.colab/files.js": {
              "data": "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",
              "ok": true,
              "headers": [
                [
                  "content-type",
                  "application/javascript"
                ]
              ],
              "status": 200,
              "status_text": ""
            }
          },
          "base_uri": "https://localhost:8080/",
          "height": 319
        }
      },
      "source": [
        "import numpy as np\n",
        "from google.colab import files\n",
        "from keras.preprocessing import image\n",
        "\n",
        "uploaded = files.upload()\n",
        "\n",
        "for fn in uploaded.keys():\n",
        " \n",
        "  # predicting images\n",
        "  path = fn\n",
        "  img = image.load_img(path, target_size=(150, 150))\n",
        "  x = image.img_to_array(img)\n",
        "  x = np.expand_dims(x, axis=0)\n",
        "\n",
        "  images = np.vstack([x])\n",
        "  classes = model.predict(images, batch_size=10)\n",
        "  print(fn)\n",
        "  print(classes)"
      ],
      "execution_count": 0,
      "outputs": [
        {
          "output_type": "display_data",
          "data": {
            "text/html": [
              "\n",
              "     <input type=\"file\" id=\"files-89e50cb6-8dfa-4352-ae36-8d690ead27c6\" name=\"files[]\" multiple disabled />\n",
              "     <output id=\"result-89e50cb6-8dfa-4352-ae36-8d690ead27c6\">\n",
              "      Upload widget is only available when the cell has been executed in the\n",
              "      current browser session. Please rerun this cell to enable.\n",
              "      </output>\n",
              "      <script src=\"/nbextensions/google.colab/files.js\"></script> "
            ],
            "text/plain": [
              "<IPython.core.display.HTML object>"
            ]
          },
          "metadata": {
            "tags": []
          }
        },
        {
          "output_type": "stream",
          "text": [
            "Saving 3.jpg to 3.jpg\n",
            "Saving 4.jpg to 4.jpg\n",
            "Saving 5.jpg to 5.jpg\n",
            "Saving 6.jpg to 6.jpg\n",
            "3.jpg\n",
            "[[0. 1. 0. 0. 0. 0.]]\n",
            "4.jpg\n",
            "[[0. 1. 0. 0. 0. 0.]]\n",
            "5.jpg\n",
            "[[0. 1. 0. 0. 0. 0.]]\n",
            "6.jpg\n",
            "[[0. 0. 0. 1. 0. 0.]]\n"
          ],
          "name": "stdout"
        }
      ]
    },
    {
      "cell_type": "code",
      "metadata": {
        "id": "rhl8NF5oZ_CZ",
        "colab_type": "code",
        "colab": {}
      },
      "source": [
        ""
      ],
      "execution_count": 0,
      "outputs": []
    }
  ]
}